{
 "cells": [
  {
   "cell_type": "markdown",
   "metadata": {},
   "source": [
    "# Поиск загаданного числа дихотомией"
   ]
  },
  {
   "cell_type": "code",
   "execution_count": 2,
   "metadata": {},
   "outputs": [
    {
     "name": "stdout",
     "output_type": "stream",
     "text": [
      "Среднее количество итераций:\t\t5\n",
      "Максимальное количество итераций:\t7\n",
      "Минимальное количество итераций:\t1\n",
      "Модальное количество итераций:\t\t7\n"
     ]
    }
   ],
   "source": [
    "import numpy as np\n",
    "from scipy import stats\n",
    "\n",
    "\n",
    "def predrange(l_margin, r_margin):  # Вычисление текущей оценки.\n",
    "    pred = int((l_margin + r_margin) / 2)\n",
    "    return pred\n",
    "\n",
    "\n",
    "def game_core_v3(number):  # Модуль расчёта текущих значений границ\n",
    "    count = 1\n",
    "    l_margin = 1\n",
    "    r_margin = 100\n",
    "    prediction = 50  # Первоначальная оценка\n",
    "    while prediction != number:  # Сужение интервала поиска дихотомией\n",
    "        count += 1\n",
    "\n",
    "        if prediction > number:\n",
    "            r_margin = prediction - 1  # Сдвиг правой границы интервала поиска\n",
    "            prediction = predrange(l_margin, r_margin)\n",
    "        elif prediction < number:\n",
    "            l_margin = prediction + 1  # Сдвиг левой границы интервала поиска\n",
    "            prediction = predrange(l_margin, r_margin)\n",
    "    return count  # вывод числа итераций необходимых для поиска числа\n",
    "\n",
    "\n",
    "\"\"\"В связи с изменением алгоритма поиска, расчёт количества необходимых \n",
    "итераций осуществляется перебором чисел в диапазоне 1-100\"\"\"\n",
    "\n",
    "score_array = []\n",
    "for i in range(1, 101):\n",
    "    score_array.append(game_core_v3(i))\n",
    "score = int(np.mean(score_array))\n",
    "scoremin = int(np.min(score_array))\n",
    "scoremax = int(np.max(score_array))\n",
    "scoremode = int(stats.mode(score_array)[0])\n",
    "\n",
    "print(\"Среднее количество итераций:\", score, sep='\\t\\t')\n",
    "print(\"Максимальное количество итераций:\", scoremax, sep='\\t')\n",
    "print(\"Минимальное количество итераций:\", scoremin, sep='\\t')\n",
    "print(\"Модальное количество итераций:\", scoremode, sep='\\t\\t')"
   ]
  },
  {
   "cell_type": "code",
   "execution_count": null,
   "metadata": {},
   "outputs": [],
   "source": []
  },
  {
   "cell_type": "code",
   "execution_count": null,
   "metadata": {},
   "outputs": [],
   "source": []
  }
 ],
 "metadata": {
  "kernelspec": {
   "display_name": "Python 3",
   "language": "python",
   "name": "python3"
  },
  "language_info": {
   "codemirror_mode": {
    "name": "ipython",
    "version": 3
   },
   "file_extension": ".py",
   "mimetype": "text/x-python",
   "name": "python",
   "nbconvert_exporter": "python",
   "pygments_lexer": "ipython3",
   "version": "3.7.6"
  }
 },
 "nbformat": 4,
 "nbformat_minor": 4
}
